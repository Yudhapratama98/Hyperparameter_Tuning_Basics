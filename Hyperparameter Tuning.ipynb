{
  "cells": [
    {
      "cell_type": "markdown",
      "metadata": {
        "id": "RdCyF7yuo8dG"
      },
      "source": [
        "## **Latihan Hyperparameter Tuning**"
      ]
    },
    {
      "cell_type": "markdown",
      "metadata": {
        "id": "u142Fa9Ko8dL"
      },
      "source": [
        "### **Gunakan dataset 'insurance'**\n",
        "\n",
        "Carilah model dan hyperparameter terbaik untuk memprediksi biaya asuransi tiap individu berdasarkan karakteristiknya.\n",
        "1. Lakukan EDA singkat untuk mengeksplorasi dataset terlebih dahulu.\n",
        "2. Lakukan preprocessing pada features jika dibutuhkan.\n",
        "3. Lakukan modeling dengan menggunakan linear regression, knn regressor, dan decision tree regressor.<br>\n",
        "    Kandidat algoritma:\n",
        "    - linreg = LinearRegression(fit_intercept=True)\n",
        "    - knn = KNeighborsRegressor(n_neighbors=5)\n",
        "    - tree = DecisionTreeRegressor(criterion='mae', min_samples_leaf=1, max_depth=5, random_state=0)\n",
        "4. Pilih 1 model terbaik berdasarkan hasil cross validasi 3 model di atas.\n",
        "5. Lakukan prediksi pada test set dari model terpilih (sebelum hyperparameter tuning).\n",
        "6. Lakukan hyperparameter tuning pada model terpilih tsb.\n",
        "7. Lakukan prediksi pada test set dari model dengan hyperparameter tuning.\n",
        "8. Bandingkan hasil performa model sebelum dan sesudah tuning.\n",
        "\n",
        "*Tips: Gunakan Pipeline*"
      ]
    },
    {
      "cell_type": "markdown",
      "metadata": {
        "id": "fynAtP02o8dV"
      },
      "source": [
        "## **Import libraries**"
      ]
    },
    {
      "cell_type": "code",
      "execution_count": null,
      "metadata": {
        "id": "bkBCuStvo8da"
      },
      "outputs": [],
      "source": [
        "import numpy as np\n",
        "import pandas as pd\n",
        "import matplotlib.pyplot as plt\n",
        "import seaborn as sns\n",
        "\n",
        "from sklearn.metrics import accuracy_score, mean_squared_error, mean_absolute_error\n",
        "from sklearn.model_selection import train_test_split\n",
        "\n",
        "import category_encoders as ce\n",
        "from sklearn.preprocessing import OneHotEncoder\n",
        "from sklearn.compose import ColumnTransformer\n",
        "from sklearn.pipeline import Pipeline\n",
        "from sklearn.impute import SimpleImputer\n",
        "from sklearn.experimental import enable_iterative_imputer\n",
        "from sklearn.impute import IterativeImputer\n",
        "\n",
        "from sklearn.linear_model import LinearRegression, Lasso, Ridge\n",
        "from sklearn.neighbors import KNeighborsRegressor\n",
        "from sklearn.tree import DecisionTreeRegressor\n",
        "from sklearn.model_selection import cross_val_score, StratifiedKFold\n",
        "from sklearn.preprocessing import StandardScaler, PolynomialFeatures, RobustScaler\n",
        "\n",
        "from sklearn.model_selection import GridSearchCV, RandomizedSearchCV\n",
        "\n",
        "import warnings\n",
        "warnings.filterwarnings('ignore')"
      ]
    },
    {
      "cell_type": "markdown",
      "metadata": {
        "id": "UPucWx0Yo8de"
      },
      "source": [
        "## **Load dataset**"
      ]
    },
    {
      "cell_type": "code",
      "execution_count": null,
      "metadata": {
        "id": "np_HqIbAo8dg",
        "outputId": "5c511f0a-6951-4710-e03b-9a956afb6117"
      },
      "outputs": [
        {
          "data": {
            "text/html": [
              "<div>\n",
              "<style scoped>\n",
              "    .dataframe tbody tr th:only-of-type {\n",
              "        vertical-align: middle;\n",
              "    }\n",
              "\n",
              "    .dataframe tbody tr th {\n",
              "        vertical-align: top;\n",
              "    }\n",
              "\n",
              "    .dataframe thead th {\n",
              "        text-align: right;\n",
              "    }\n",
              "</style>\n",
              "<table border=\"1\" class=\"dataframe\">\n",
              "  <thead>\n",
              "    <tr style=\"text-align: right;\">\n",
              "      <th></th>\n",
              "      <th>age</th>\n",
              "      <th>sex</th>\n",
              "      <th>bmi</th>\n",
              "      <th>children</th>\n",
              "      <th>smoker</th>\n",
              "      <th>region</th>\n",
              "      <th>charges</th>\n",
              "    </tr>\n",
              "  </thead>\n",
              "  <tbody>\n",
              "    <tr>\n",
              "      <th>0</th>\n",
              "      <td>19</td>\n",
              "      <td>female</td>\n",
              "      <td>27.900</td>\n",
              "      <td>0</td>\n",
              "      <td>yes</td>\n",
              "      <td>southwest</td>\n",
              "      <td>16884.92400</td>\n",
              "    </tr>\n",
              "    <tr>\n",
              "      <th>1</th>\n",
              "      <td>18</td>\n",
              "      <td>male</td>\n",
              "      <td>33.770</td>\n",
              "      <td>1</td>\n",
              "      <td>no</td>\n",
              "      <td>southeast</td>\n",
              "      <td>1725.55230</td>\n",
              "    </tr>\n",
              "    <tr>\n",
              "      <th>2</th>\n",
              "      <td>28</td>\n",
              "      <td>male</td>\n",
              "      <td>33.000</td>\n",
              "      <td>3</td>\n",
              "      <td>no</td>\n",
              "      <td>southeast</td>\n",
              "      <td>4449.46200</td>\n",
              "    </tr>\n",
              "    <tr>\n",
              "      <th>3</th>\n",
              "      <td>33</td>\n",
              "      <td>male</td>\n",
              "      <td>22.705</td>\n",
              "      <td>0</td>\n",
              "      <td>no</td>\n",
              "      <td>northwest</td>\n",
              "      <td>21984.47061</td>\n",
              "    </tr>\n",
              "    <tr>\n",
              "      <th>4</th>\n",
              "      <td>32</td>\n",
              "      <td>male</td>\n",
              "      <td>28.880</td>\n",
              "      <td>0</td>\n",
              "      <td>no</td>\n",
              "      <td>northwest</td>\n",
              "      <td>3866.85520</td>\n",
              "    </tr>\n",
              "    <tr>\n",
              "      <th>...</th>\n",
              "      <td>...</td>\n",
              "      <td>...</td>\n",
              "      <td>...</td>\n",
              "      <td>...</td>\n",
              "      <td>...</td>\n",
              "      <td>...</td>\n",
              "      <td>...</td>\n",
              "    </tr>\n",
              "    <tr>\n",
              "      <th>1333</th>\n",
              "      <td>50</td>\n",
              "      <td>male</td>\n",
              "      <td>30.970</td>\n",
              "      <td>3</td>\n",
              "      <td>no</td>\n",
              "      <td>northwest</td>\n",
              "      <td>10600.54830</td>\n",
              "    </tr>\n",
              "    <tr>\n",
              "      <th>1334</th>\n",
              "      <td>18</td>\n",
              "      <td>female</td>\n",
              "      <td>31.920</td>\n",
              "      <td>0</td>\n",
              "      <td>no</td>\n",
              "      <td>northeast</td>\n",
              "      <td>2205.98080</td>\n",
              "    </tr>\n",
              "    <tr>\n",
              "      <th>1335</th>\n",
              "      <td>18</td>\n",
              "      <td>female</td>\n",
              "      <td>36.850</td>\n",
              "      <td>0</td>\n",
              "      <td>no</td>\n",
              "      <td>southeast</td>\n",
              "      <td>1629.83350</td>\n",
              "    </tr>\n",
              "    <tr>\n",
              "      <th>1336</th>\n",
              "      <td>21</td>\n",
              "      <td>female</td>\n",
              "      <td>25.800</td>\n",
              "      <td>0</td>\n",
              "      <td>no</td>\n",
              "      <td>southwest</td>\n",
              "      <td>2007.94500</td>\n",
              "    </tr>\n",
              "    <tr>\n",
              "      <th>1337</th>\n",
              "      <td>61</td>\n",
              "      <td>female</td>\n",
              "      <td>29.070</td>\n",
              "      <td>0</td>\n",
              "      <td>yes</td>\n",
              "      <td>northwest</td>\n",
              "      <td>29141.36030</td>\n",
              "    </tr>\n",
              "  </tbody>\n",
              "</table>\n",
              "<p>1338 rows × 7 columns</p>\n",
              "</div>"
            ],
            "text/plain": [
              "      age     sex     bmi  children smoker     region      charges\n",
              "0      19  female  27.900         0    yes  southwest  16884.92400\n",
              "1      18    male  33.770         1     no  southeast   1725.55230\n",
              "2      28    male  33.000         3     no  southeast   4449.46200\n",
              "3      33    male  22.705         0     no  northwest  21984.47061\n",
              "4      32    male  28.880         0     no  northwest   3866.85520\n",
              "...   ...     ...     ...       ...    ...        ...          ...\n",
              "1333   50    male  30.970         3     no  northwest  10600.54830\n",
              "1334   18  female  31.920         0     no  northeast   2205.98080\n",
              "1335   18  female  36.850         0     no  southeast   1629.83350\n",
              "1336   21  female  25.800         0     no  southwest   2007.94500\n",
              "1337   61  female  29.070         0    yes  northwest  29141.36030\n",
              "\n",
              "[1338 rows x 7 columns]"
            ]
          },
          "execution_count": 2,
          "metadata": {},
          "output_type": "execute_result"
        }
      ],
      "source": [
        "df = pd.read_csv('insurance.csv')\n",
        "df"
      ]
    },
    {
      "cell_type": "markdown",
      "metadata": {
        "id": "tFEB9WVUo8dh"
      },
      "source": [
        "### **Features Description**\n",
        "\n",
        "- age: age of primary beneficiary\n",
        "\n",
        "- sex: insurance contractor gender, female, male\n",
        "\n",
        "- bmi: Body mass index, providing an understanding of body, weights that are relatively high or low relative to height,\n",
        "objective index of body weight (kg / m ^ 2) using the ratio of height to weight, ideally 18.5 to 24.9\n",
        "\n",
        "- children: Number of children covered by health insurance / Number of dependents\n",
        "\n",
        "- smoker: Smoking\n",
        "\n",
        "- region: the beneficiary's residential area in the US, northeast, southeast, southwest, northwest.\n",
        "\n",
        "- charges: Individual medical costs billed by health insurance"
      ]
    },
    {
      "cell_type": "code",
      "execution_count": null,
      "metadata": {
        "id": "RKkR8lQuo8dk",
        "outputId": "91d11d4e-e967-4a9b-a4f5-a8af58045623"
      },
      "outputs": [
        {
          "name": "stdout",
          "output_type": "stream",
          "text": [
            "<class 'pandas.core.frame.DataFrame'>\n",
            "RangeIndex: 1338 entries, 0 to 1337\n",
            "Data columns (total 7 columns):\n",
            " #   Column    Non-Null Count  Dtype  \n",
            "---  ------    --------------  -----  \n",
            " 0   age       1338 non-null   int64  \n",
            " 1   sex       1338 non-null   object \n",
            " 2   bmi       1338 non-null   float64\n",
            " 3   children  1338 non-null   int64  \n",
            " 4   smoker    1338 non-null   object \n",
            " 5   region    1338 non-null   object \n",
            " 6   charges   1338 non-null   float64\n",
            "dtypes: float64(2), int64(2), object(3)\n",
            "memory usage: 73.3+ KB\n"
          ]
        }
      ],
      "source": [
        "df.info()"
      ]
    },
    {
      "cell_type": "code",
      "execution_count": null,
      "metadata": {
        "id": "aSd3d4GEo8dn",
        "outputId": "45c9a3e0-5c29-4bb6-938e-65323b4d3435"
      },
      "outputs": [
        {
          "data": {
            "text/plain": [
              "age         0\n",
              "sex         0\n",
              "bmi         0\n",
              "children    0\n",
              "smoker      0\n",
              "region      0\n",
              "charges     0\n",
              "dtype: int64"
            ]
          },
          "execution_count": 4,
          "metadata": {},
          "output_type": "execute_result"
        }
      ],
      "source": [
        "# check missing values\n",
        "df.isna().sum()"
      ]
    },
    {
      "cell_type": "code",
      "execution_count": null,
      "metadata": {
        "id": "oIw2gWupo8dr",
        "outputId": "36b80308-53eb-4bf0-8c55-cd3cd3b6a3de"
      },
      "outputs": [
        {
          "data": {
            "text/html": [
              "<div>\n",
              "<style scoped>\n",
              "    .dataframe tbody tr th:only-of-type {\n",
              "        vertical-align: middle;\n",
              "    }\n",
              "\n",
              "    .dataframe tbody tr th {\n",
              "        vertical-align: top;\n",
              "    }\n",
              "\n",
              "    .dataframe thead th {\n",
              "        text-align: right;\n",
              "    }\n",
              "</style>\n",
              "<table border=\"1\" class=\"dataframe\">\n",
              "  <thead>\n",
              "    <tr style=\"text-align: right;\">\n",
              "      <th></th>\n",
              "      <th>age</th>\n",
              "      <th>sex</th>\n",
              "      <th>bmi</th>\n",
              "      <th>children</th>\n",
              "      <th>smoker</th>\n",
              "      <th>region</th>\n",
              "      <th>charges</th>\n",
              "    </tr>\n",
              "  </thead>\n",
              "  <tbody>\n",
              "    <tr>\n",
              "      <th>count</th>\n",
              "      <td>1338.000000</td>\n",
              "      <td>1338</td>\n",
              "      <td>1338.000000</td>\n",
              "      <td>1338.000000</td>\n",
              "      <td>1338</td>\n",
              "      <td>1338</td>\n",
              "      <td>1338.000000</td>\n",
              "    </tr>\n",
              "    <tr>\n",
              "      <th>unique</th>\n",
              "      <td>NaN</td>\n",
              "      <td>2</td>\n",
              "      <td>NaN</td>\n",
              "      <td>NaN</td>\n",
              "      <td>2</td>\n",
              "      <td>4</td>\n",
              "      <td>NaN</td>\n",
              "    </tr>\n",
              "    <tr>\n",
              "      <th>top</th>\n",
              "      <td>NaN</td>\n",
              "      <td>male</td>\n",
              "      <td>NaN</td>\n",
              "      <td>NaN</td>\n",
              "      <td>no</td>\n",
              "      <td>southeast</td>\n",
              "      <td>NaN</td>\n",
              "    </tr>\n",
              "    <tr>\n",
              "      <th>freq</th>\n",
              "      <td>NaN</td>\n",
              "      <td>676</td>\n",
              "      <td>NaN</td>\n",
              "      <td>NaN</td>\n",
              "      <td>1064</td>\n",
              "      <td>364</td>\n",
              "      <td>NaN</td>\n",
              "    </tr>\n",
              "    <tr>\n",
              "      <th>mean</th>\n",
              "      <td>39.207025</td>\n",
              "      <td>NaN</td>\n",
              "      <td>30.663397</td>\n",
              "      <td>1.094918</td>\n",
              "      <td>NaN</td>\n",
              "      <td>NaN</td>\n",
              "      <td>13270.422265</td>\n",
              "    </tr>\n",
              "    <tr>\n",
              "      <th>std</th>\n",
              "      <td>14.049960</td>\n",
              "      <td>NaN</td>\n",
              "      <td>6.098187</td>\n",
              "      <td>1.205493</td>\n",
              "      <td>NaN</td>\n",
              "      <td>NaN</td>\n",
              "      <td>12110.011237</td>\n",
              "    </tr>\n",
              "    <tr>\n",
              "      <th>min</th>\n",
              "      <td>18.000000</td>\n",
              "      <td>NaN</td>\n",
              "      <td>15.960000</td>\n",
              "      <td>0.000000</td>\n",
              "      <td>NaN</td>\n",
              "      <td>NaN</td>\n",
              "      <td>1121.873900</td>\n",
              "    </tr>\n",
              "    <tr>\n",
              "      <th>25%</th>\n",
              "      <td>27.000000</td>\n",
              "      <td>NaN</td>\n",
              "      <td>26.296250</td>\n",
              "      <td>0.000000</td>\n",
              "      <td>NaN</td>\n",
              "      <td>NaN</td>\n",
              "      <td>4740.287150</td>\n",
              "    </tr>\n",
              "    <tr>\n",
              "      <th>50%</th>\n",
              "      <td>39.000000</td>\n",
              "      <td>NaN</td>\n",
              "      <td>30.400000</td>\n",
              "      <td>1.000000</td>\n",
              "      <td>NaN</td>\n",
              "      <td>NaN</td>\n",
              "      <td>9382.033000</td>\n",
              "    </tr>\n",
              "    <tr>\n",
              "      <th>75%</th>\n",
              "      <td>51.000000</td>\n",
              "      <td>NaN</td>\n",
              "      <td>34.693750</td>\n",
              "      <td>2.000000</td>\n",
              "      <td>NaN</td>\n",
              "      <td>NaN</td>\n",
              "      <td>16639.912515</td>\n",
              "    </tr>\n",
              "    <tr>\n",
              "      <th>max</th>\n",
              "      <td>64.000000</td>\n",
              "      <td>NaN</td>\n",
              "      <td>53.130000</td>\n",
              "      <td>5.000000</td>\n",
              "      <td>NaN</td>\n",
              "      <td>NaN</td>\n",
              "      <td>63770.428010</td>\n",
              "    </tr>\n",
              "  </tbody>\n",
              "</table>\n",
              "</div>"
            ],
            "text/plain": [
              "                age   sex          bmi     children smoker     region  \\\n",
              "count   1338.000000  1338  1338.000000  1338.000000   1338       1338   \n",
              "unique          NaN     2          NaN          NaN      2          4   \n",
              "top             NaN  male          NaN          NaN     no  southeast   \n",
              "freq            NaN   676          NaN          NaN   1064        364   \n",
              "mean      39.207025   NaN    30.663397     1.094918    NaN        NaN   \n",
              "std       14.049960   NaN     6.098187     1.205493    NaN        NaN   \n",
              "min       18.000000   NaN    15.960000     0.000000    NaN        NaN   \n",
              "25%       27.000000   NaN    26.296250     0.000000    NaN        NaN   \n",
              "50%       39.000000   NaN    30.400000     1.000000    NaN        NaN   \n",
              "75%       51.000000   NaN    34.693750     2.000000    NaN        NaN   \n",
              "max       64.000000   NaN    53.130000     5.000000    NaN        NaN   \n",
              "\n",
              "             charges  \n",
              "count    1338.000000  \n",
              "unique           NaN  \n",
              "top              NaN  \n",
              "freq             NaN  \n",
              "mean    13270.422265  \n",
              "std     12110.011237  \n",
              "min      1121.873900  \n",
              "25%      4740.287150  \n",
              "50%      9382.033000  \n",
              "75%     16639.912515  \n",
              "max     63770.428010  "
            ]
          },
          "execution_count": 68,
          "metadata": {},
          "output_type": "execute_result"
        }
      ],
      "source": [
        "df.describe(include='all')"
      ]
    },
    {
      "cell_type": "markdown",
      "metadata": {
        "id": "jer3W6Zwo8du"
      },
      "source": [
        "## **Simple EDA**"
      ]
    },
    {
      "cell_type": "code",
      "execution_count": null,
      "metadata": {
        "id": "doHTJ-NQo8dv",
        "outputId": "bd67d64d-a1de-4cf2-d0de-8b00570e6a1f"
      },
      "outputs": [
        {
          "data": {
            "text/plain": [
              "['sex', 'smoker', 'region']"
            ]
          },
          "execution_count": 6,
          "metadata": {},
          "output_type": "execute_result"
        }
      ],
      "source": [
        "cat_features = [feature for feature in df.columns if (df[feature].dtypes == 'O')]\n",
        "cat_features"
      ]
    },
    {
      "cell_type": "code",
      "execution_count": null,
      "metadata": {
        "id": "s27eEJSwo8dx",
        "outputId": "c9ed61d1-b179-45be-adcf-7eff4c4682a2"
      },
      "outputs": [
        {
          "data": {
            "text/plain": [
              "['age', 'bmi', 'children']"
            ]
          },
          "execution_count": 7,
          "metadata": {},
          "output_type": "execute_result"
        }
      ],
      "source": [
        "num_features = [feature for feature in df.columns if ((df[feature].dtypes != 'O') & (feature not in ['charges']))]\n",
        "num_features"
      ]
    },
    {
      "cell_type": "code",
      "execution_count": null,
      "metadata": {
        "id": "PPr3zRH4o8dz",
        "outputId": "fa81c91f-4f27-40c0-8810-342fbb193736"
      },
      "outputs": [
        {
          "name": "stdout",
          "output_type": "stream",
          "text": [
            "Total unique values in sex:  2\n",
            "Unique values:  ['female' 'male']\n",
            "\n",
            "Total unique values in smoker:  2\n",
            "Unique values:  ['yes' 'no']\n",
            "\n",
            "Total unique values in region:  4\n",
            "Unique values:  ['southwest' 'southeast' 'northwest' 'northeast']\n",
            "\n"
          ]
        }
      ],
      "source": [
        "# category pada categorical features\n",
        "for i in cat_features:\n",
        "    print(f'Total unique values in {i}: ', df[i].nunique())\n",
        "    print(f'Unique values: ', df[i].unique())\n",
        "    print()"
      ]
    },
    {
      "cell_type": "code",
      "execution_count": null,
      "metadata": {
        "id": "RJDLVx78o8d0",
        "outputId": "901e623c-9b3d-4ebd-e954-6c26411e240a"
      },
      "outputs": [
        {
          "data": {
            "text/plain": [
              "age         0.299008\n",
              "bmi         0.198341\n",
              "children    0.067998\n",
              "charges     1.000000\n",
              "Name: charges, dtype: float64"
            ]
          },
          "execution_count": 9,
          "metadata": {},
          "output_type": "execute_result"
        }
      ],
      "source": [
        "df.corr()['charges']"
      ]
    },
    {
      "cell_type": "code",
      "execution_count": null,
      "metadata": {
        "id": "isRVLWooo8d2",
        "outputId": "476c31cb-894f-4156-f989-3371daeea253"
      },
      "outputs": [
        {
          "data": {
            "image/png": "[encoded data removed]",
            "text/plain": [
              "<Figure size 432x288 with 1 Axes>"
            ]
          },
          "metadata": {},
          "output_type": "display_data"
        }
      ],
      "source": [
        "sns.set(style='whitegrid', palette='Set3')\n",
        "sns.boxplot(x='charges', data=df);"
      ]
    },
    {
      "cell_type": "markdown",
      "metadata": {
        "id": "_nfENVleo8d4"
      },
      "source": [
        "### **Plot of categorical features**"
      ]
    },
    {
      "cell_type": "code",
      "execution_count": null,
      "metadata": {
        "id": "j2ibxNReo8d7",
        "outputId": "1955c725-f3a2-4b44-e594-f15d457e03e0"
      },
      "outputs": [
        {
          "data": {
            "image/png": "[encoded data removed]",
            "text/plain": [
              "<Figure size 1080x720 with 3 Axes>"
            ]
          },
          "metadata": {},
          "output_type": "display_data"
        }
      ],
      "source": [
        "plt.figure(figsize=(15, 10), facecolor='white')\n",
        "sns.set(style='whitegrid', palette='Set3')\n",
        "plotnumber = 1\n",
        "\n",
        "for feature in cat_features:\n",
        "    ax = plt.subplot(2, 2, plotnumber)\n",
        "    sns.barplot(x = 'charges', y = feature, data = df)\n",
        "    plt.xlabel('charges')\n",
        "    plt.title(feature)\n",
        "    plotnumber += 1\n",
        "    plt.tight_layout();"
      ]
    },
    {
      "cell_type": "markdown",
      "metadata": {
        "id": "UobyRwtco8d8"
      },
      "source": [
        "### **Plot of numerical features**"
      ]
    },
    {
      "cell_type": "code",
      "execution_count": null,
      "metadata": {
        "id": "l9wQBufJo8d9",
        "outputId": "62733228-b1e9-41b2-92b6-0771468ae187"
      },
      "outputs": [
        {
          "data": {
            "image/png": "[encoded data removed]",
            "text/plain": [
              "<Figure size 1080x720 with 3 Axes>"
            ]
          },
          "metadata": {},
          "output_type": "display_data"
        }
      ],
      "source": [
        "plt.figure(figsize=(15, 10), facecolor='white')\n",
        "sns.set(style='whitegrid', palette='Set3')\n",
        "plotnumber = 1\n",
        "\n",
        "for feature in num_features:\n",
        "    ax = plt.subplot(2, 2, plotnumber)\n",
        "    sns.scatterplot(x = 'charges', y = feature, data = df)\n",
        "    plt.xlabel('charges')\n",
        "    plt.title(feature, fontsize=20)\n",
        "    plotnumber += 1\n",
        "    plt.tight_layout();"
      ]
    },
    {
      "cell_type": "markdown",
      "metadata": {
        "id": "pjKr3Wzpo8d-"
      },
      "source": [
        "## **Data Splitting**"
      ]
    },
    {
      "cell_type": "code",
      "execution_count": null,
      "metadata": {
        "id": "luIzRsASo8d_",
        "outputId": "46ca6b89-0a9c-4f45-e52c-2ada29c71510"
      },
      "outputs": [
        {
          "data": {
            "text/html": [
              "<div>\n",
              "<style scoped>\n",
              "    .dataframe tbody tr th:only-of-type {\n",
              "        vertical-align: middle;\n",
              "    }\n",
              "\n",
              "    .dataframe tbody tr th {\n",
              "        vertical-align: top;\n",
              "    }\n",
              "\n",
              "    .dataframe thead th {\n",
              "        text-align: right;\n",
              "    }\n",
              "</style>\n",
              "<table border=\"1\" class=\"dataframe\">\n",
              "  <thead>\n",
              "    <tr style=\"text-align: right;\">\n",
              "      <th></th>\n",
              "      <th>age</th>\n",
              "      <th>sex</th>\n",
              "      <th>bmi</th>\n",
              "      <th>children</th>\n",
              "      <th>smoker</th>\n",
              "      <th>region</th>\n",
              "      <th>charges</th>\n",
              "    </tr>\n",
              "  </thead>\n",
              "  <tbody>\n",
              "    <tr>\n",
              "      <th>0</th>\n",
              "      <td>19</td>\n",
              "      <td>female</td>\n",
              "      <td>27.900</td>\n",
              "      <td>0</td>\n",
              "      <td>yes</td>\n",
              "      <td>southwest</td>\n",
              "      <td>16884.92400</td>\n",
              "    </tr>\n",
              "    <tr>\n",
              "      <th>1</th>\n",
              "      <td>18</td>\n",
              "      <td>male</td>\n",
              "      <td>33.770</td>\n",
              "      <td>1</td>\n",
              "      <td>no</td>\n",
              "      <td>southeast</td>\n",
              "      <td>1725.55230</td>\n",
              "    </tr>\n",
              "    <tr>\n",
              "      <th>2</th>\n",
              "      <td>28</td>\n",
              "      <td>male</td>\n",
              "      <td>33.000</td>\n",
              "      <td>3</td>\n",
              "      <td>no</td>\n",
              "      <td>southeast</td>\n",
              "      <td>4449.46200</td>\n",
              "    </tr>\n",
              "    <tr>\n",
              "      <th>3</th>\n",
              "      <td>33</td>\n",
              "      <td>male</td>\n",
              "      <td>22.705</td>\n",
              "      <td>0</td>\n",
              "      <td>no</td>\n",
              "      <td>northwest</td>\n",
              "      <td>21984.47061</td>\n",
              "    </tr>\n",
              "    <tr>\n",
              "      <th>4</th>\n",
              "      <td>32</td>\n",
              "      <td>male</td>\n",
              "      <td>28.880</td>\n",
              "      <td>0</td>\n",
              "      <td>no</td>\n",
              "      <td>northwest</td>\n",
              "      <td>3866.85520</td>\n",
              "    </tr>\n",
              "  </tbody>\n",
              "</table>\n",
              "</div>"
            ],
            "text/plain": [
              "   age     sex     bmi  children smoker     region      charges\n",
              "0   19  female  27.900         0    yes  southwest  16884.92400\n",
              "1   18    male  33.770         1     no  southeast   1725.55230\n",
              "2   28    male  33.000         3     no  southeast   4449.46200\n",
              "3   33    male  22.705         0     no  northwest  21984.47061\n",
              "4   32    male  28.880         0     no  northwest   3866.85520"
            ]
          },
          "execution_count": 13,
          "metadata": {},
          "output_type": "execute_result"
        }
      ],
      "source": [
        "df.head()"
      ]
    },
    {
      "cell_type": "code",
      "execution_count": null,
      "metadata": {
        "id": "9FPEXsblo8eA"
      },
      "outputs": [],
      "source": [
        "# Define X and y\n",
        "X = df.drop(columns='charges')\n",
        "y = df['charges']"
      ]
    },
    {
      "cell_type": "code",
      "execution_count": null,
      "metadata": {
        "id": "CqVPQ_gro8eC"
      },
      "outputs": [],
      "source": [
        "# Split\n",
        "X_train, X_test, y_train, y_test = train_test_split(\n",
        "    X,\n",
        "    y,\n",
        "    # stratify = y,\n",
        "    test_size=0.2,\n",
        "    random_state=0\n",
        ")"
      ]
    },
    {
      "cell_type": "markdown",
      "metadata": {
        "id": "xS4tr2Kxo8eD"
      },
      "source": [
        "## **Feature Transformation**"
      ]
    },
    {
      "cell_type": "code",
      "execution_count": null,
      "metadata": {
        "id": "OYMjaVjyo8eE"
      },
      "outputs": [],
      "source": [
        "transformer = ColumnTransformer([\n",
        "    ('one hot', OneHotEncoder(drop='first'), ['sex', 'smoker', 'region'])\n",
        "], remainder='passthrough')"
      ]
    },
    {
      "cell_type": "code",
      "execution_count": null,
      "metadata": {
        "id": "dRy_EW8jo8eF"
      },
      "outputs": [],
      "source": [
        "# transform features (satu persatu, tanpa Pipeline)\n",
        "X_train_prep = pd.DataFrame(transformer.fit_transform(X_train))\n",
        "X_test_prep = pd.DataFrame(transformer.transform(X_test))"
      ]
    },
    {
      "cell_type": "code",
      "execution_count": null,
      "metadata": {
        "id": "XJFt3Vwdo8eI",
        "outputId": "62f2eefd-f0d2-4cdb-bda5-28b324a6c8f6"
      },
      "outputs": [
        {
          "data": {
            "text/html": [
              "<div>\n",
              "<style scoped>\n",
              "    .dataframe tbody tr th:only-of-type {\n",
              "        vertical-align: middle;\n",
              "    }\n",
              "\n",
              "    .dataframe tbody tr th {\n",
              "        vertical-align: top;\n",
              "    }\n",
              "\n",
              "    .dataframe thead th {\n",
              "        text-align: right;\n",
              "    }\n",
              "</style>\n",
              "<table border=\"1\" class=\"dataframe\">\n",
              "  <thead>\n",
              "    <tr style=\"text-align: right;\">\n",
              "      <th></th>\n",
              "      <th>0</th>\n",
              "      <th>1</th>\n",
              "      <th>2</th>\n",
              "      <th>3</th>\n",
              "      <th>4</th>\n",
              "      <th>5</th>\n",
              "      <th>6</th>\n",
              "      <th>7</th>\n",
              "    </tr>\n",
              "  </thead>\n",
              "  <tbody>\n",
              "    <tr>\n",
              "      <th>0</th>\n",
              "      <td>1.0</td>\n",
              "      <td>1.0</td>\n",
              "      <td>0.0</td>\n",
              "      <td>0.0</td>\n",
              "      <td>1.0</td>\n",
              "      <td>37.0</td>\n",
              "      <td>34.100</td>\n",
              "      <td>4.0</td>\n",
              "    </tr>\n",
              "    <tr>\n",
              "      <th>1</th>\n",
              "      <td>1.0</td>\n",
              "      <td>0.0</td>\n",
              "      <td>0.0</td>\n",
              "      <td>1.0</td>\n",
              "      <td>0.0</td>\n",
              "      <td>18.0</td>\n",
              "      <td>34.430</td>\n",
              "      <td>0.0</td>\n",
              "    </tr>\n",
              "    <tr>\n",
              "      <th>2</th>\n",
              "      <td>0.0</td>\n",
              "      <td>1.0</td>\n",
              "      <td>0.0</td>\n",
              "      <td>0.0</td>\n",
              "      <td>0.0</td>\n",
              "      <td>23.0</td>\n",
              "      <td>36.670</td>\n",
              "      <td>2.0</td>\n",
              "    </tr>\n",
              "    <tr>\n",
              "      <th>3</th>\n",
              "      <td>1.0</td>\n",
              "      <td>0.0</td>\n",
              "      <td>0.0</td>\n",
              "      <td>0.0</td>\n",
              "      <td>1.0</td>\n",
              "      <td>32.0</td>\n",
              "      <td>35.200</td>\n",
              "      <td>2.0</td>\n",
              "    </tr>\n",
              "    <tr>\n",
              "      <th>4</th>\n",
              "      <td>0.0</td>\n",
              "      <td>0.0</td>\n",
              "      <td>0.0</td>\n",
              "      <td>0.0</td>\n",
              "      <td>0.0</td>\n",
              "      <td>58.0</td>\n",
              "      <td>32.395</td>\n",
              "      <td>1.0</td>\n",
              "    </tr>\n",
              "  </tbody>\n",
              "</table>\n",
              "</div>"
            ],
            "text/plain": [
              "     0    1    2    3    4     5       6    7\n",
              "0  1.0  1.0  0.0  0.0  1.0  37.0  34.100  4.0\n",
              "1  1.0  0.0  0.0  1.0  0.0  18.0  34.430  0.0\n",
              "2  0.0  1.0  0.0  0.0  0.0  23.0  36.670  2.0\n",
              "3  1.0  0.0  0.0  0.0  1.0  32.0  35.200  2.0\n",
              "4  0.0  0.0  0.0  0.0  0.0  58.0  32.395  1.0"
            ]
          },
          "execution_count": 18,
          "metadata": {},
          "output_type": "execute_result"
        }
      ],
      "source": [
        "X_train_prep.head()"
      ]
    },
    {
      "cell_type": "markdown",
      "metadata": {
        "id": "DtHEFsQso8eL"
      },
      "source": [
        "## **Feature Scaling**"
      ]
    },
    {
      "cell_type": "code",
      "execution_count": null,
      "metadata": {
        "id": "i6cmukCho8eM"
      },
      "outputs": [],
      "source": [
        "# scaling features (satu persatu, tanpa Pipeline)\n",
        "scaler = RobustScaler()\n",
        "\n",
        "X_train_prep_scaled = pd.DataFrame(scaler.fit_transform(X_train_prep))\n",
        "X_test_prep_scaled = pd.DataFrame(scaler.transform(X_test_prep))"
      ]
    },
    {
      "cell_type": "code",
      "execution_count": null,
      "metadata": {
        "id": "VKZ-PDpNo8eN",
        "outputId": "bdabb886-927c-4378-a3e5-61752cb9771f"
      },
      "outputs": [
        {
          "data": {
            "text/html": [
              "<div>\n",
              "<style scoped>\n",
              "    .dataframe tbody tr th:only-of-type {\n",
              "        vertical-align: middle;\n",
              "    }\n",
              "\n",
              "    .dataframe tbody tr th {\n",
              "        vertical-align: top;\n",
              "    }\n",
              "\n",
              "    .dataframe thead th {\n",
              "        text-align: right;\n",
              "    }\n",
              "</style>\n",
              "<table border=\"1\" class=\"dataframe\">\n",
              "  <thead>\n",
              "    <tr style=\"text-align: right;\">\n",
              "      <th></th>\n",
              "      <th>0</th>\n",
              "      <th>1</th>\n",
              "      <th>2</th>\n",
              "      <th>3</th>\n",
              "      <th>4</th>\n",
              "      <th>5</th>\n",
              "      <th>6</th>\n",
              "      <th>7</th>\n",
              "    </tr>\n",
              "  </thead>\n",
              "  <tbody>\n",
              "    <tr>\n",
              "      <th>0</th>\n",
              "      <td>1.0</td>\n",
              "      <td>1.0</td>\n",
              "      <td>0.0</td>\n",
              "      <td>0.0</td>\n",
              "      <td>1.0</td>\n",
              "      <td>-0.08</td>\n",
              "      <td>0.436449</td>\n",
              "      <td>1.5</td>\n",
              "    </tr>\n",
              "    <tr>\n",
              "      <th>1</th>\n",
              "      <td>1.0</td>\n",
              "      <td>0.0</td>\n",
              "      <td>0.0</td>\n",
              "      <td>1.0</td>\n",
              "      <td>0.0</td>\n",
              "      <td>-0.84</td>\n",
              "      <td>0.475376</td>\n",
              "      <td>-0.5</td>\n",
              "    </tr>\n",
              "    <tr>\n",
              "      <th>2</th>\n",
              "      <td>0.0</td>\n",
              "      <td>1.0</td>\n",
              "      <td>0.0</td>\n",
              "      <td>0.0</td>\n",
              "      <td>0.0</td>\n",
              "      <td>-0.64</td>\n",
              "      <td>0.739605</td>\n",
              "      <td>0.5</td>\n",
              "    </tr>\n",
              "    <tr>\n",
              "      <th>3</th>\n",
              "      <td>1.0</td>\n",
              "      <td>0.0</td>\n",
              "      <td>0.0</td>\n",
              "      <td>0.0</td>\n",
              "      <td>1.0</td>\n",
              "      <td>-0.28</td>\n",
              "      <td>0.566205</td>\n",
              "      <td>0.5</td>\n",
              "    </tr>\n",
              "    <tr>\n",
              "      <th>4</th>\n",
              "      <td>0.0</td>\n",
              "      <td>0.0</td>\n",
              "      <td>0.0</td>\n",
              "      <td>0.0</td>\n",
              "      <td>0.0</td>\n",
              "      <td>0.76</td>\n",
              "      <td>0.235329</td>\n",
              "      <td>0.0</td>\n",
              "    </tr>\n",
              "  </tbody>\n",
              "</table>\n",
              "</div>"
            ],
            "text/plain": [
              "     0    1    2    3    4     5         6    7\n",
              "0  1.0  1.0  0.0  0.0  1.0 -0.08  0.436449  1.5\n",
              "1  1.0  0.0  0.0  1.0  0.0 -0.84  0.475376 -0.5\n",
              "2  0.0  1.0  0.0  0.0  0.0 -0.64  0.739605  0.5\n",
              "3  1.0  0.0  0.0  0.0  1.0 -0.28  0.566205  0.5\n",
              "4  0.0  0.0  0.0  0.0  0.0  0.76  0.235329  0.0"
            ]
          },
          "execution_count": 20,
          "metadata": {},
          "output_type": "execute_result"
        }
      ],
      "source": [
        "X_train_prep_scaled.head()"
      ]
    },
    {
      "cell_type": "markdown",
      "metadata": {
        "id": "Zrwgc3w3o8eO"
      },
      "source": [
        "## **Model Benchmark**\n",
        "Mencari algoritma terbaik untuk digunakan pada dataset ini dengan menggunakan cross validation. Belum melakukan hyperparameter tuning"
      ]
    },
    {
      "cell_type": "markdown",
      "source": [
        "* https://scikit-learn.org/stable/modules/classes.html#module-sklearn.metrics"
      ],
      "metadata": {
        "id": "JNCG6n5h7-sZ"
      }
    },
    {
      "cell_type": "code",
      "execution_count": null,
      "metadata": {
        "id": "nEVCkxTJo8eO",
        "outputId": "241c585a-8fd5-4e3a-b564-3f0f37a9d3a4"
      },
      "outputs": [
        {
          "data": {
            "text/plain": [
              "dict_keys(['explained_variance', 'r2', 'max_error', 'neg_median_absolute_error', 'neg_mean_absolute_error', 'neg_mean_absolute_percentage_error', 'neg_mean_squared_error', 'neg_mean_squared_log_error', 'neg_root_mean_squared_error', 'neg_mean_poisson_deviance', 'neg_mean_gamma_deviance', 'accuracy', 'top_k_accuracy', 'roc_auc', 'roc_auc_ovr', 'roc_auc_ovo', 'roc_auc_ovr_weighted', 'roc_auc_ovo_weighted', 'balanced_accuracy', 'average_precision', 'neg_log_loss', 'neg_brier_score', 'adjusted_rand_score', 'rand_score', 'homogeneity_score', 'completeness_score', 'v_measure_score', 'mutual_info_score', 'adjusted_mutual_info_score', 'normalized_mutual_info_score', 'fowlkes_mallows_score', 'precision', 'precision_macro', 'precision_micro', 'precision_samples', 'precision_weighted', 'recall', 'recall_macro', 'recall_micro', 'recall_samples', 'recall_weighted', 'f1', 'f1_macro', 'f1_micro', 'f1_samples', 'f1_weighted', 'jaccard', 'jaccard_macro', 'jaccard_micro', 'jaccard_samples', 'jaccard_weighted'])"
            ]
          },
          "execution_count": 21,
          "metadata": {},
          "output_type": "execute_result"
        }
      ],
      "source": [
        "# macam-macam metrics\n",
        "from sklearn import metrics\n",
        "metrics.SCORERS.keys()"
      ]
    },
    {
      "cell_type": "code",
      "execution_count": null,
      "metadata": {
        "id": "9XiAMxjeo8eP"
      },
      "outputs": [],
      "source": [
        "# Define models (3 kandidat model)\n",
        "linreg = LinearRegression(fit_intercept=True)\n",
        "knn = KNeighborsRegressor(n_neighbors=5)\n",
        "tree = DecisionTreeRegressor(criterion='mae', min_samples_leaf=1, max_depth=5, random_state=0)"
      ]
    },
    {
      "cell_type": "code",
      "execution_count": null,
      "metadata": {
        "id": "k5eTmh6ao8eR",
        "outputId": "75b9530d-c07e-4585-892a-2221c1c9ac84"
      },
      "outputs": [
        {
          "name": "stdout",
          "output_type": "stream",
          "text": [
            "LinearRegression() \n",
            " [-4285.73672206 -3922.02986453 -4122.67469177 -4288.75441939\n",
            " -4758.76255886]\n",
            "KNeighborsRegressor() \n",
            " [-4012.41029687 -3063.47497909 -3904.70236337 -3559.85774314\n",
            " -4240.09854134]\n",
            "DecisionTreeRegressor(criterion='mae', max_depth=5, random_state=0) \n",
            " [-1914.71916079 -1804.28627757 -2047.27315308 -2297.89898161\n",
            " -2637.65756484]\n"
          ]
        }
      ],
      "source": [
        "# pilihan model algoritma\n",
        "models = [linreg, knn, tree]\n",
        "\n",
        "nilai_mean = []\n",
        "nilai_std = []\n",
        "\n",
        "# mencari model terbaik berdasarkan MAE terkecil\n",
        "for i in models:\n",
        "\n",
        "    model_cv = cross_val_score(\n",
        "        i,\n",
        "        X_train_prep_scaled, # menggunakan X_train yang sudah di-tansform dan di-scaling\n",
        "        y_train,\n",
        "        scoring = 'neg_mean_absolute_error')\n",
        "\n",
        "    nilai_mean.append(model_cv.mean())\n",
        "    nilai_std.append(model_cv.std())\n",
        "\n",
        "    print(i,'\\n', model_cv)"
      ]
    },
    {
      "cell_type": "code",
      "execution_count": null,
      "metadata": {
        "id": "9Ox5qyrRo8eT",
        "outputId": "ef86c87e-7ed4-4fe2-9123-55d63eb170e4"
      },
      "outputs": [
        {
          "data": {
            "text/html": [
              "<div>\n",
              "<style scoped>\n",
              "    .dataframe tbody tr th:only-of-type {\n",
              "        vertical-align: middle;\n",
              "    }\n",
              "\n",
              "    .dataframe tbody tr th {\n",
              "        vertical-align: top;\n",
              "    }\n",
              "\n",
              "    .dataframe thead th {\n",
              "        text-align: right;\n",
              "    }\n",
              "</style>\n",
              "<table border=\"1\" class=\"dataframe\">\n",
              "  <thead>\n",
              "    <tr style=\"text-align: right;\">\n",
              "      <th></th>\n",
              "      <th>model</th>\n",
              "      <th>mean</th>\n",
              "      <th>std</th>\n",
              "    </tr>\n",
              "  </thead>\n",
              "  <tbody>\n",
              "    <tr>\n",
              "      <th>0</th>\n",
              "      <td>Linear Regression</td>\n",
              "      <td>-4275.591651</td>\n",
              "      <td>276.448853</td>\n",
              "    </tr>\n",
              "    <tr>\n",
              "      <th>1</th>\n",
              "      <td>KNN Regressor</td>\n",
              "      <td>-3756.108785</td>\n",
              "      <td>409.944548</td>\n",
              "    </tr>\n",
              "    <tr>\n",
              "      <th>2</th>\n",
              "      <td>Decision Tree Regressor</td>\n",
              "      <td>-2140.367028</td>\n",
              "      <td>298.210629</td>\n",
              "    </tr>\n",
              "  </tbody>\n",
              "</table>\n",
              "</div>"
            ],
            "text/plain": [
              "                     model         mean         std\n",
              "0        Linear Regression -4275.591651  276.448853\n",
              "1            KNN Regressor -3756.108785  409.944548\n",
              "2  Decision Tree Regressor -2140.367028  298.210629"
            ]
          },
          "execution_count": 24,
          "metadata": {},
          "output_type": "execute_result"
        }
      ],
      "source": [
        "# Perbandingan performa antar model\n",
        "pd.DataFrame({\n",
        "    'model':['Linear Regression', 'KNN Regressor', 'Decision Tree Regressor'],\n",
        "    'mean': nilai_mean,\n",
        "    'std': nilai_std\n",
        "})\n",
        "\n",
        ""
      ]
    },
    {
      "cell_type": "markdown",
      "metadata": {
        "id": "1-d-Vv6qo8eU"
      },
      "source": [
        "**WARNING!!!**\n",
        "- Tahap modeling seperti di atas ini (preprocessingnya manual) tidak direkomendasikan karena dapat menimpulkan information leakage.\n",
        "- Nanti bisa bandingkan score KNN di sini (preprocessingnya manual) dengan setelah ini (preprocessingnya dengan Pipeline).\n",
        "- Score (khususnya KNN) di sini lebih bagus dari pada yang menggunakan Pipeline, karena di sini (preprocessing manual) terjadi information leakage."
      ]
    },
    {
      "cell_type": "code",
      "execution_count": null,
      "metadata": {
        "id": "TclSXgWAo8eV"
      },
      "outputs": [],
      "source": []
    },
    {
      "cell_type": "markdown",
      "metadata": {
        "id": "dr-wFSqAo8eW"
      },
      "source": [
        "## **Model Benchmark (dengan Pipeline)**\n",
        "- Di sini kita coba melakukan modeling dengan pipeline (transform dan scaling feature dilakukan dalam satu tahap).\n",
        "- Disarankan menggunakan Pipeline untuk menghindari information leakage.\n",
        "- Contoh yang benar: pada Split 1, seharusnya Fold 1 tidak ikut di-fit_transform, seharusnya Fold 1 hanya di-transform saja\n",
        "- Dengan menggunakan Pipeline, pada Split 1, otomatis Fold 1 tidak ikut di-fit_transform, tetapi Fold 1 hanya di-transform saja.  "
      ]
    },
    {
      "cell_type": "markdown",
      "metadata": {
        "id": "hrk_E9IYo8eX"
      },
      "source": [
        "<img src=\"https://scikit-learn.org/stable/_images/grid_search_cross_validation.png\" alt=\"Drawing\" style=\"width: 600px;\"/>\n"
      ]
    },
    {
      "cell_type": "code",
      "execution_count": null,
      "metadata": {
        "id": "rpEi0qAlo8eZ",
        "outputId": "1dc3e6b5-bb9a-435b-8779-0f3ff5000bdc"
      },
      "outputs": [
        {
          "name": "stdout",
          "output_type": "stream",
          "text": [
            "LinearRegression() \n",
            " [-4285.73672206 -3922.02986453 -4122.67469177 -4288.75441939\n",
            " -4758.76255886]\n",
            "KNeighborsRegressor() \n",
            " [-4012.41029687 -3091.45318916 -3970.39145394 -3551.54160968\n",
            " -4253.57736236]\n",
            "DecisionTreeRegressor(criterion='mae', max_depth=5, random_state=0) \n",
            " [-1914.71916079 -1804.28627757 -2047.27315308 -2297.89898161\n",
            " -2637.65756484]\n"
          ]
        }
      ],
      "source": [
        "# pilihan model algoritma\n",
        "models = [linreg, knn, tree]\n",
        "\n",
        "nilai_mean = []\n",
        "nilai_std = []\n",
        "\n",
        "# mencari model terbaik berdasarkan MAE terkecil\n",
        "for i in models:\n",
        "\n",
        "    # Pipeline berisi 3 tahap, untuk diisi di pada estimator di cross val\n",
        "    estimator=Pipeline([\n",
        "                        ('preprocess', transformer),\n",
        "                        ('scaler', RobustScaler()),\n",
        "                        ('model', i)\n",
        "                    ])\n",
        "\n",
        "    # cross val\n",
        "    model_cv = cross_val_score(\n",
        "        estimator = estimator,\n",
        "        X = X_train, # menggunakan X_train awal (karena transform dan scaling dilakukan di Pipeline)\n",
        "        y = y_train,\n",
        "        cv = 5,\n",
        "        scoring = 'neg_mean_absolute_error'\n",
        "        )\n",
        "\n",
        "    nilai_mean.append(model_cv.mean())\n",
        "    nilai_std.append(model_cv.std())\n",
        "\n",
        "    print(i,'\\n', model_cv)\n"
      ]
    },
    {
      "cell_type": "code",
      "execution_count": null,
      "metadata": {
        "id": "rW1byvC3o8ea",
        "outputId": "7231fa0e-87dc-4fe2-e5a9-fb1136d82804"
      },
      "outputs": [
        {
          "data": {
            "text/html": [
              "<div>\n",
              "<style scoped>\n",
              "    .dataframe tbody tr th:only-of-type {\n",
              "        vertical-align: middle;\n",
              "    }\n",
              "\n",
              "    .dataframe tbody tr th {\n",
              "        vertical-align: top;\n",
              "    }\n",
              "\n",
              "    .dataframe thead th {\n",
              "        text-align: right;\n",
              "    }\n",
              "</style>\n",
              "<table border=\"1\" class=\"dataframe\">\n",
              "  <thead>\n",
              "    <tr style=\"text-align: right;\">\n",
              "      <th></th>\n",
              "      <th>model</th>\n",
              "      <th>mean</th>\n",
              "      <th>std</th>\n",
              "    </tr>\n",
              "  </thead>\n",
              "  <tbody>\n",
              "    <tr>\n",
              "      <th>0</th>\n",
              "      <td>Linear Regression</td>\n",
              "      <td>-4275.591651</td>\n",
              "      <td>276.448853</td>\n",
              "    </tr>\n",
              "    <tr>\n",
              "      <th>1</th>\n",
              "      <td>KNN Regressor</td>\n",
              "      <td>-3775.874782</td>\n",
              "      <td>410.059466</td>\n",
              "    </tr>\n",
              "    <tr>\n",
              "      <th>2</th>\n",
              "      <td>Decision Tree Regressor</td>\n",
              "      <td>-2140.367028</td>\n",
              "      <td>298.210629</td>\n",
              "    </tr>\n",
              "  </tbody>\n",
              "</table>\n",
              "</div>"
            ],
            "text/plain": [
              "                     model         mean         std\n",
              "0        Linear Regression -4275.591651  276.448853\n",
              "1            KNN Regressor -3775.874782  410.059466\n",
              "2  Decision Tree Regressor -2140.367028  298.210629"
            ]
          },
          "execution_count": 26,
          "metadata": {},
          "output_type": "execute_result"
        }
      ],
      "source": [
        "# Perbandingan performa antar model\n",
        "pd.DataFrame({\n",
        "    'model':['Linear Regression', 'KNN Regressor', 'Decision Tree Regressor'],\n",
        "    'mean': nilai_mean,\n",
        "    'std': nilai_std\n",
        "})"
      ]
    },
    {
      "cell_type": "markdown",
      "metadata": {
        "id": "l0omkXdso8eb"
      },
      "source": [
        "### **Interpretasi**\n",
        "\n",
        "- Dari ketiga model yang dicoba, ternyata model decision tree regressor menghasilkan error yang paling kecil, dengan perbedaan yang cukup signifikan.\n",
        "- Decision Tree Regressor juga cukup stabil, walauun Linear Regressio sedikit lebih stabil\n",
        "- Untuk selanjutnya, hanya model decision tree regressor saja yang akan diuji pada test set dan juga dilakukan tuning."
      ]
    },
    {
      "cell_type": "code",
      "execution_count": null,
      "metadata": {
        "id": "mv9Q3Lsyo8ec"
      },
      "outputs": [],
      "source": []
    },
    {
      "cell_type": "markdown",
      "metadata": {
        "id": "sg6Hys-xo8ed"
      },
      "source": [
        "## **Model Performance in Test Set**\n",
        "Sekarang kita predict model tree-nya pada Test set dan lihat hasil performanya"
      ]
    },
    {
      "cell_type": "code",
      "execution_count": null,
      "metadata": {
        "id": "8bqDuS-uo8ef",
        "outputId": "86ca89bf-4a75-4e0b-8375-6972dde9383a"
      },
      "outputs": [
        {
          "data": {
            "text/plain": [
              "Pipeline(steps=[('preprocess',\n",
              "                 ColumnTransformer(remainder='passthrough',\n",
              "                                   transformers=[('one hot',\n",
              "                                                  OneHotEncoder(drop='first'),\n",
              "                                                  ['sex', 'smoker',\n",
              "                                                   'region'])])),\n",
              "                ('scaler', RobustScaler()),\n",
              "                ('model',\n",
              "                 DecisionTreeRegressor(criterion='mae', max_depth=5,\n",
              "                                       random_state=0))])"
            ]
          },
          "execution_count": 27,
          "metadata": {},
          "output_type": "execute_result"
        }
      ],
      "source": [
        "# model benchmark\n",
        "tree_pipeline = Pipeline([\n",
        "    ('preprocess', transformer),\n",
        "    ('scaler', RobustScaler()),\n",
        "    ('model', tree)\n",
        "])\n",
        "\n",
        "# fitting\n",
        "tree_pipeline.fit(X_train, y_train)"
      ]
    },
    {
      "cell_type": "code",
      "execution_count": null,
      "metadata": {
        "id": "kD411Zvuo8eg"
      },
      "outputs": [],
      "source": [
        "# predict\n",
        "y_pred = tree_pipeline.predict(X_test)"
      ]
    },
    {
      "cell_type": "code",
      "execution_count": null,
      "metadata": {
        "id": "hy7CInpqo8eh",
        "outputId": "343db2c3-c237-48d0-8a35-99ec299a8d64"
      },
      "outputs": [
        {
          "name": "stdout",
          "output_type": "stream",
          "text": [
            "MSE: 24201482.975162514\n",
            "RMSE: 4919.50027697555\n",
            "MAE: 1975.9065320298507\n"
          ]
        }
      ],
      "source": [
        "# Metric evaluation\n",
        "mse = mean_squared_error(y_test, y_pred)\n",
        "rmse = np.sqrt(mse)\n",
        "mae = mean_absolute_error(y_test, y_pred)\n",
        "\n",
        "print('MSE:', mse)\n",
        "print('RMSE:', rmse)\n",
        "print('MAE:', mae)"
      ]
    },
    {
      "cell_type": "code",
      "execution_count": null,
      "metadata": {
        "id": "gXWSlghvo8ej"
      },
      "outputs": [],
      "source": [
        "# tree_pipeline.get_params() => proses untuk mendapatkan hyperparameter_space, akan terlihat semua proses yang akan kita lakukan"
      ]
    },
    {
      "cell_type": "markdown",
      "metadata": {
        "id": "gAJMvFPZo8ek"
      },
      "source": [
        "## **Hyperparameter Tuning**\n",
        "Cari hyperparameter terbaik untuk decision tree"
      ]
    },
    {
      "cell_type": "code",
      "execution_count": null,
      "metadata": {
        "id": "WRSSpfheo8el"
      },
      "outputs": [],
      "source": [
        "# hyperparameter yang akan diisikan pada model (tree)\n",
        "hyperparam_space = {\n",
        "    'model__criterion':['mae','mse'],                   # benchmark: mae ; kombinasi ada 2\n",
        "    'model__min_samples_leaf':[1, 5, 10, 15, 20, 50],   # benchmark: 1 ; kombinasi ada 6\n",
        "    'model__max_depth':[2, 3, 4, 5, 6, 7]              # benchmark: 5 ; kombinasi ada 6 ; total kombinasi 72\n",
        "    # 'scaler':[StandardScaler(), MinMaxScaler(), RobustScaler()]\n",
        "}"
      ]
    },
    {
      "cell_type": "markdown",
      "source": [
        "* https://scikit-learn.org/stable/modules/grid_search.html#grid-search\n",
        "* verbose : int\n",
        "\n",
        "    Controls the verbosity: the higher, the more messages.\n",
        "\n",
        "        >1 : the computation time for each fold and parameter candidate is displayed;\n",
        "\n",
        "        >2 : the score is also displayed;\n",
        "\n",
        "        >3 : the fold and candidate parameter indexes are also displayed together with the starting time of the computation.\n",
        "\n"
      ],
      "metadata": {
        "id": "LHb7BvX2Cvsa"
      }
    },
    {
      "cell_type": "code",
      "execution_count": null,
      "metadata": {
        "id": "OikaLuJio8en"
      },
      "outputs": [],
      "source": [
        "# model benchmark\n",
        "tree = DecisionTreeRegressor(criterion='mae', min_samples_leaf=1, max_depth=5, random_state=0)\n",
        "\n",
        "# model dalam pipeline\n",
        "tree_pipeline = Pipeline([\n",
        "    ('preprocess', transformer),\n",
        "    ('scaler', RobustScaler()),\n",
        "    ('model', tree)\n",
        "])\n",
        "\n",
        "\n",
        "# Grid search (mencari hyperparameter terbaik)\n",
        "grid_search = GridSearchCV(\n",
        "    estimator = tree_pipeline,           # model to tune\n",
        "    param_grid = hyperparam_space,       # hyperparam space\n",
        "    cv = 5,\n",
        "    scoring = 'neg_mean_absolute_error', # metric\n",
        "    n_jobs= -1,\n",
        "    # verbose = 1 / 2 / 3 / 4\n",
        ")"
      ]
    },
    {
      "cell_type": "code",
      "execution_count": null,
      "metadata": {
        "id": "9Pz9e2eJo8eo"
      },
      "outputs": [],
      "source": [
        "# estimator.get_params().keys() => hanya menampilkan keys nya saja / nama dari parameter model kita"
      ]
    },
    {
      "cell_type": "code",
      "execution_count": null,
      "metadata": {
        "id": "dVNr9c85o8er",
        "outputId": "bed46467-a33d-4907-f3a9-d5db0ebad8ef"
      },
      "outputs": [
        {
          "data": {
            "text/plain": [
              "GridSearchCV(cv=5,\n",
              "             estimator=Pipeline(steps=[('preprocess',\n",
              "                                        ColumnTransformer(remainder='passthrough',\n",
              "                                                          transformers=[('one '\n",
              "                                                                         'hot',\n",
              "                                                                         OneHotEncoder(drop='first'),\n",
              "                                                                         ['sex',\n",
              "                                                                          'smoker',\n",
              "                                                                          'region'])])),\n",
              "                                       ('scaler', RobustScaler()),\n",
              "                                       ('model',\n",
              "                                        DecisionTreeRegressor(criterion='mae',\n",
              "                                                              max_depth=5,\n",
              "                                                              random_state=0))]),\n",
              "             n_jobs=-1,\n",
              "             param_grid={'model__criterion': ['mae', 'mse'],\n",
              "                         'model__max_depth': [2, 3, 4, 5, 6, 7],\n",
              "                         'model__min_samples_leaf': [1, 5, 10, 15, 20, 50]},\n",
              "             scoring='neg_mean_absolute_error')"
            ]
          },
          "execution_count": 48,
          "metadata": {},
          "output_type": "execute_result"
        }
      ],
      "source": [
        "# fit grid_search pada train set\n",
        "grid_search.fit(X_train, y_train)"
      ]
    },
    {
      "cell_type": "code",
      "execution_count": null,
      "metadata": {
        "id": "1yUTqlMdo8er",
        "outputId": "71db1ca5-f034-4c6b-e1d0-ea9762b96399"
      },
      "outputs": [
        {
          "name": "stdout",
          "output_type": "stream",
          "text": [
            "-1936.9615949813083\n",
            "{'model__criterion': 'mae', 'model__max_depth': 6, 'model__min_samples_leaf': 5}\n"
          ]
        }
      ],
      "source": [
        "# score terbaik hasil dari grid_search\n",
        "print(grid_search.best_score_)\n",
        "\n",
        "# hyperparameter pada score terbaik hasil dari grid_search\n",
        "print(grid_search.best_params_)\n",
        "\n",
        "# proses secara keseluruhan dengan model terbaik dan parameter terbaik\n",
        "print(grid_search.best_estimator_)"
      ]
    },
    {
      "cell_type": "code",
      "execution_count": null,
      "metadata": {
        "id": "7xGp07bQo8es",
        "outputId": "5f0a5940-2ccf-4c6f-ada3-1d464a0bf6c3"
      },
      "outputs": [
        {
          "data": {
            "text/html": [
              "<div>\n",
              "<style scoped>\n",
              "    .dataframe tbody tr th:only-of-type {\n",
              "        vertical-align: middle;\n",
              "    }\n",
              "\n",
              "    .dataframe tbody tr th {\n",
              "        vertical-align: top;\n",
              "    }\n",
              "\n",
              "    .dataframe thead th {\n",
              "        text-align: right;\n",
              "    }\n",
              "</style>\n",
              "<table border=\"1\" class=\"dataframe\">\n",
              "  <thead>\n",
              "    <tr style=\"text-align: right;\">\n",
              "      <th></th>\n",
              "      <th>mean_fit_time</th>\n",
              "      <th>std_fit_time</th>\n",
              "      <th>mean_score_time</th>\n",
              "      <th>std_score_time</th>\n",
              "      <th>param_model__criterion</th>\n",
              "      <th>param_model__max_depth</th>\n",
              "      <th>param_model__min_samples_leaf</th>\n",
              "      <th>params</th>\n",
              "      <th>split0_test_score</th>\n",
              "      <th>split1_test_score</th>\n",
              "      <th>split2_test_score</th>\n",
              "      <th>split3_test_score</th>\n",
              "      <th>split4_test_score</th>\n",
              "      <th>mean_test_score</th>\n",
              "      <th>std_test_score</th>\n",
              "      <th>rank_test_score</th>\n",
              "    </tr>\n",
              "  </thead>\n",
              "  <tbody>\n",
              "    <tr>\n",
              "      <th>0</th>\n",
              "      <td>0.108595</td>\n",
              "      <td>0.040767</td>\n",
              "      <td>0.024208</td>\n",
              "      <td>0.014115</td>\n",
              "      <td>mae</td>\n",
              "      <td>2</td>\n",
              "      <td>1</td>\n",
              "      <td>{'model__criterion': 'mae', 'model__max_depth'...</td>\n",
              "      <td>-3018.214146</td>\n",
              "      <td>-3016.596530</td>\n",
              "      <td>-3237.546635</td>\n",
              "      <td>-3080.346853</td>\n",
              "      <td>-3971.275395</td>\n",
              "      <td>-3264.795912</td>\n",
              "      <td>362.293455</td>\n",
              "      <td>61</td>\n",
              "    </tr>\n",
              "    <tr>\n",
              "      <th>1</th>\n",
              "      <td>0.112597</td>\n",
              "      <td>0.022106</td>\n",
              "      <td>0.020203</td>\n",
              "      <td>0.009194</td>\n",
              "      <td>mae</td>\n",
              "      <td>2</td>\n",
              "      <td>5</td>\n",
              "      <td>{'model__criterion': 'mae', 'model__max_depth'...</td>\n",
              "      <td>-3018.214146</td>\n",
              "      <td>-3016.596530</td>\n",
              "      <td>-3237.546635</td>\n",
              "      <td>-3080.346853</td>\n",
              "      <td>-3971.275395</td>\n",
              "      <td>-3264.795912</td>\n",
              "      <td>362.293455</td>\n",
              "      <td>61</td>\n",
              "    </tr>\n",
              "    <tr>\n",
              "      <th>2</th>\n",
              "      <td>0.124598</td>\n",
              "      <td>0.014731</td>\n",
              "      <td>0.024801</td>\n",
              "      <td>0.012467</td>\n",
              "      <td>mae</td>\n",
              "      <td>2</td>\n",
              "      <td>10</td>\n",
              "      <td>{'model__criterion': 'mae', 'model__max_depth'...</td>\n",
              "      <td>-3018.214146</td>\n",
              "      <td>-3016.596530</td>\n",
              "      <td>-3237.546635</td>\n",
              "      <td>-3080.346853</td>\n",
              "      <td>-3971.275395</td>\n",
              "      <td>-3264.795912</td>\n",
              "      <td>362.293455</td>\n",
              "      <td>61</td>\n",
              "    </tr>\n",
              "    <tr>\n",
              "      <th>3</th>\n",
              "      <td>0.119396</td>\n",
              "      <td>0.008263</td>\n",
              "      <td>0.022804</td>\n",
              "      <td>0.009492</td>\n",
              "      <td>mae</td>\n",
              "      <td>2</td>\n",
              "      <td>15</td>\n",
              "      <td>{'model__criterion': 'mae', 'model__max_depth'...</td>\n",
              "      <td>-3018.214146</td>\n",
              "      <td>-3016.596530</td>\n",
              "      <td>-3237.546635</td>\n",
              "      <td>-3080.346853</td>\n",
              "      <td>-3971.275395</td>\n",
              "      <td>-3264.795912</td>\n",
              "      <td>362.293455</td>\n",
              "      <td>61</td>\n",
              "    </tr>\n",
              "    <tr>\n",
              "      <th>4</th>\n",
              "      <td>0.117602</td>\n",
              "      <td>0.008453</td>\n",
              "      <td>0.025199</td>\n",
              "      <td>0.014287</td>\n",
              "      <td>mae</td>\n",
              "      <td>2</td>\n",
              "      <td>20</td>\n",
              "      <td>{'model__criterion': 'mae', 'model__max_depth'...</td>\n",
              "      <td>-3018.214146</td>\n",
              "      <td>-3016.596530</td>\n",
              "      <td>-3237.546635</td>\n",
              "      <td>-3080.346853</td>\n",
              "      <td>-3971.275395</td>\n",
              "      <td>-3264.795912</td>\n",
              "      <td>362.293455</td>\n",
              "      <td>61</td>\n",
              "    </tr>\n",
              "    <tr>\n",
              "      <th>...</th>\n",
              "      <td>...</td>\n",
              "      <td>...</td>\n",
              "      <td>...</td>\n",
              "      <td>...</td>\n",
              "      <td>...</td>\n",
              "      <td>...</td>\n",
              "      <td>...</td>\n",
              "      <td>...</td>\n",
              "      <td>...</td>\n",
              "      <td>...</td>\n",
              "      <td>...</td>\n",
              "      <td>...</td>\n",
              "      <td>...</td>\n",
              "      <td>...</td>\n",
              "      <td>...</td>\n",
              "      <td>...</td>\n",
              "    </tr>\n",
              "    <tr>\n",
              "      <th>67</th>\n",
              "      <td>0.054199</td>\n",
              "      <td>0.007626</td>\n",
              "      <td>0.018001</td>\n",
              "      <td>0.004817</td>\n",
              "      <td>mse</td>\n",
              "      <td>7</td>\n",
              "      <td>5</td>\n",
              "      <td>{'model__criterion': 'mse', 'model__max_depth'...</td>\n",
              "      <td>-2700.516699</td>\n",
              "      <td>-2503.205790</td>\n",
              "      <td>-3024.150800</td>\n",
              "      <td>-2938.894057</td>\n",
              "      <td>-3135.503424</td>\n",
              "      <td>-2860.454154</td>\n",
              "      <td>228.826526</td>\n",
              "      <td>46</td>\n",
              "    </tr>\n",
              "    <tr>\n",
              "      <th>68</th>\n",
              "      <td>0.055797</td>\n",
              "      <td>0.009238</td>\n",
              "      <td>0.024204</td>\n",
              "      <td>0.009304</td>\n",
              "      <td>mse</td>\n",
              "      <td>7</td>\n",
              "      <td>10</td>\n",
              "      <td>{'model__criterion': 'mse', 'model__max_depth'...</td>\n",
              "      <td>-2806.844741</td>\n",
              "      <td>-2510.348797</td>\n",
              "      <td>-2860.628980</td>\n",
              "      <td>-2903.029366</td>\n",
              "      <td>-3249.274635</td>\n",
              "      <td>-2866.025304</td>\n",
              "      <td>235.918031</td>\n",
              "      <td>47</td>\n",
              "    </tr>\n",
              "    <tr>\n",
              "      <th>69</th>\n",
              "      <td>0.059200</td>\n",
              "      <td>0.014824</td>\n",
              "      <td>0.015001</td>\n",
              "      <td>0.002965</td>\n",
              "      <td>mse</td>\n",
              "      <td>7</td>\n",
              "      <td>15</td>\n",
              "      <td>{'model__criterion': 'mse', 'model__max_depth'...</td>\n",
              "      <td>-2863.568116</td>\n",
              "      <td>-2403.908351</td>\n",
              "      <td>-2794.996947</td>\n",
              "      <td>-2942.761621</td>\n",
              "      <td>-3134.642955</td>\n",
              "      <td>-2827.975598</td>\n",
              "      <td>240.586013</td>\n",
              "      <td>44</td>\n",
              "    </tr>\n",
              "    <tr>\n",
              "      <th>70</th>\n",
              "      <td>0.059399</td>\n",
              "      <td>0.011535</td>\n",
              "      <td>0.019801</td>\n",
              "      <td>0.005741</td>\n",
              "      <td>mse</td>\n",
              "      <td>7</td>\n",
              "      <td>20</td>\n",
              "      <td>{'model__criterion': 'mse', 'model__max_depth'...</td>\n",
              "      <td>-2743.333355</td>\n",
              "      <td>-2448.336847</td>\n",
              "      <td>-2714.291711</td>\n",
              "      <td>-2956.625994</td>\n",
              "      <td>-3228.479302</td>\n",
              "      <td>-2818.213442</td>\n",
              "      <td>261.033163</td>\n",
              "      <td>42</td>\n",
              "    </tr>\n",
              "    <tr>\n",
              "      <th>71</th>\n",
              "      <td>0.051598</td>\n",
              "      <td>0.006277</td>\n",
              "      <td>0.017601</td>\n",
              "      <td>0.002871</td>\n",
              "      <td>mse</td>\n",
              "      <td>7</td>\n",
              "      <td>50</td>\n",
              "      <td>{'model__criterion': 'mse', 'model__max_depth'...</td>\n",
              "      <td>-3072.011698</td>\n",
              "      <td>-2728.309983</td>\n",
              "      <td>-3097.491084</td>\n",
              "      <td>-2881.947477</td>\n",
              "      <td>-3392.503709</td>\n",
              "      <td>-3034.452790</td>\n",
              "      <td>223.859888</td>\n",
              "      <td>56</td>\n",
              "    </tr>\n",
              "  </tbody>\n",
              "</table>\n",
              "<p>72 rows × 16 columns</p>\n",
              "</div>"
            ],
            "text/plain": [
              "    mean_fit_time  std_fit_time  mean_score_time  std_score_time  \\\n",
              "0        0.108595      0.040767         0.024208        0.014115   \n",
              "1        0.112597      0.022106         0.020203        0.009194   \n",
              "2        0.124598      0.014731         0.024801        0.012467   \n",
              "3        0.119396      0.008263         0.022804        0.009492   \n",
              "4        0.117602      0.008453         0.025199        0.014287   \n",
              "..            ...           ...              ...             ...   \n",
              "67       0.054199      0.007626         0.018001        0.004817   \n",
              "68       0.055797      0.009238         0.024204        0.009304   \n",
              "69       0.059200      0.014824         0.015001        0.002965   \n",
              "70       0.059399      0.011535         0.019801        0.005741   \n",
              "71       0.051598      0.006277         0.017601        0.002871   \n",
              "\n",
              "   param_model__criterion param_model__max_depth  \\\n",
              "0                     mae                      2   \n",
              "1                     mae                      2   \n",
              "2                     mae                      2   \n",
              "3                     mae                      2   \n",
              "4                     mae                      2   \n",
              "..                    ...                    ...   \n",
              "67                    mse                      7   \n",
              "68                    mse                      7   \n",
              "69                    mse                      7   \n",
              "70                    mse                      7   \n",
              "71                    mse                      7   \n",
              "\n",
              "   param_model__min_samples_leaf  \\\n",
              "0                              1   \n",
              "1                              5   \n",
              "2                             10   \n",
              "3                             15   \n",
              "4                             20   \n",
              "..                           ...   \n",
              "67                             5   \n",
              "68                            10   \n",
              "69                            15   \n",
              "70                            20   \n",
              "71                            50   \n",
              "\n",
              "                                               params  split0_test_score  \\\n",
              "0   {'model__criterion': 'mae', 'model__max_depth'...       -3018.214146   \n",
              "1   {'model__criterion': 'mae', 'model__max_depth'...       -3018.214146   \n",
              "2   {'model__criterion': 'mae', 'model__max_depth'...       -3018.214146   \n",
              "3   {'model__criterion': 'mae', 'model__max_depth'...       -3018.214146   \n",
              "4   {'model__criterion': 'mae', 'model__max_depth'...       -3018.214146   \n",
              "..                                                ...                ...   \n",
              "67  {'model__criterion': 'mse', 'model__max_depth'...       -2700.516699   \n",
              "68  {'model__criterion': 'mse', 'model__max_depth'...       -2806.844741   \n",
              "69  {'model__criterion': 'mse', 'model__max_depth'...       -2863.568116   \n",
              "70  {'model__criterion': 'mse', 'model__max_depth'...       -2743.333355   \n",
              "71  {'model__criterion': 'mse', 'model__max_depth'...       -3072.011698   \n",
              "\n",
              "    split1_test_score  split2_test_score  split3_test_score  \\\n",
              "0        -3016.596530       -3237.546635       -3080.346853   \n",
              "1        -3016.596530       -3237.546635       -3080.346853   \n",
              "2        -3016.596530       -3237.546635       -3080.346853   \n",
              "3        -3016.596530       -3237.546635       -3080.346853   \n",
              "4        -3016.596530       -3237.546635       -3080.346853   \n",
              "..                ...                ...                ...   \n",
              "67       -2503.205790       -3024.150800       -2938.894057   \n",
              "68       -2510.348797       -2860.628980       -2903.029366   \n",
              "69       -2403.908351       -2794.996947       -2942.761621   \n",
              "70       -2448.336847       -2714.291711       -2956.625994   \n",
              "71       -2728.309983       -3097.491084       -2881.947477   \n",
              "\n",
              "    split4_test_score  mean_test_score  std_test_score  rank_test_score  \n",
              "0        -3971.275395     -3264.795912      362.293455               61  \n",
              "1        -3971.275395     -3264.795912      362.293455               61  \n",
              "2        -3971.275395     -3264.795912      362.293455               61  \n",
              "3        -3971.275395     -3264.795912      362.293455               61  \n",
              "4        -3971.275395     -3264.795912      362.293455               61  \n",
              "..                ...              ...             ...              ...  \n",
              "67       -3135.503424     -2860.454154      228.826526               46  \n",
              "68       -3249.274635     -2866.025304      235.918031               47  \n",
              "69       -3134.642955     -2827.975598      240.586013               44  \n",
              "70       -3228.479302     -2818.213442      261.033163               42  \n",
              "71       -3392.503709     -3034.452790      223.859888               56  \n",
              "\n",
              "[72 rows x 16 columns]"
            ]
          },
          "execution_count": 57,
          "metadata": {},
          "output_type": "execute_result"
        }
      ],
      "source": [
        "# hasil dari 72 kombinasi hyperparameter\n",
        "pd.DataFrame(grid_search.cv_results_)"
      ]
    },
    {
      "cell_type": "code",
      "execution_count": null,
      "metadata": {
        "id": "Z9xgpScpo8eu",
        "outputId": "6ca96cde-2b5a-4264-a652-9cbe9681e4d0"
      },
      "outputs": [
        {
          "data": {
            "text/html": [
              "<div>\n",
              "<style scoped>\n",
              "    .dataframe tbody tr th:only-of-type {\n",
              "        vertical-align: middle;\n",
              "    }\n",
              "\n",
              "    .dataframe tbody tr th {\n",
              "        vertical-align: top;\n",
              "    }\n",
              "\n",
              "    .dataframe thead th {\n",
              "        text-align: right;\n",
              "    }\n",
              "</style>\n",
              "<table border=\"1\" class=\"dataframe\">\n",
              "  <thead>\n",
              "    <tr style=\"text-align: right;\">\n",
              "      <th></th>\n",
              "      <th>mean_fit_time</th>\n",
              "      <th>std_fit_time</th>\n",
              "      <th>mean_score_time</th>\n",
              "      <th>std_score_time</th>\n",
              "      <th>param_model__criterion</th>\n",
              "      <th>param_model__max_depth</th>\n",
              "      <th>param_model__min_samples_leaf</th>\n",
              "      <th>params</th>\n",
              "      <th>split0_test_score</th>\n",
              "      <th>split1_test_score</th>\n",
              "      <th>split2_test_score</th>\n",
              "      <th>split3_test_score</th>\n",
              "      <th>split4_test_score</th>\n",
              "      <th>mean_test_score</th>\n",
              "      <th>std_test_score</th>\n",
              "      <th>rank_test_score</th>\n",
              "    </tr>\n",
              "  </thead>\n",
              "  <tbody>\n",
              "    <tr>\n",
              "      <th>25</th>\n",
              "      <td>0.131599</td>\n",
              "      <td>0.017396</td>\n",
              "      <td>0.018602</td>\n",
              "      <td>0.007761</td>\n",
              "      <td>mae</td>\n",
              "      <td>6</td>\n",
              "      <td>5</td>\n",
              "      <td>{'model__criterion': 'mae', 'model__max_depth'...</td>\n",
              "      <td>-1808.095486</td>\n",
              "      <td>-1674.227427</td>\n",
              "      <td>-1797.405596</td>\n",
              "      <td>-1862.364071</td>\n",
              "      <td>-2542.715395</td>\n",
              "      <td>-1936.961595</td>\n",
              "      <td>309.067647</td>\n",
              "      <td>1</td>\n",
              "    </tr>\n",
              "    <tr>\n",
              "      <th>31</th>\n",
              "      <td>0.138597</td>\n",
              "      <td>0.006051</td>\n",
              "      <td>0.013404</td>\n",
              "      <td>0.001358</td>\n",
              "      <td>mae</td>\n",
              "      <td>7</td>\n",
              "      <td>5</td>\n",
              "      <td>{'model__criterion': 'mae', 'model__max_depth'...</td>\n",
              "      <td>-1849.395933</td>\n",
              "      <td>-1605.538089</td>\n",
              "      <td>-1886.771645</td>\n",
              "      <td>-1878.334412</td>\n",
              "      <td>-2521.859691</td>\n",
              "      <td>-1948.379954</td>\n",
              "      <td>304.932567</td>\n",
              "      <td>2</td>\n",
              "    </tr>\n",
              "    <tr>\n",
              "      <th>32</th>\n",
              "      <td>0.128797</td>\n",
              "      <td>0.030783</td>\n",
              "      <td>0.014802</td>\n",
              "      <td>0.001464</td>\n",
              "      <td>mae</td>\n",
              "      <td>7</td>\n",
              "      <td>10</td>\n",
              "      <td>{'model__criterion': 'mae', 'model__max_depth'...</td>\n",
              "      <td>-1837.878740</td>\n",
              "      <td>-1693.533349</td>\n",
              "      <td>-1824.321476</td>\n",
              "      <td>-1890.404402</td>\n",
              "      <td>-2525.466208</td>\n",
              "      <td>-1954.320835</td>\n",
              "      <td>292.834785</td>\n",
              "      <td>3</td>\n",
              "    </tr>\n",
              "    <tr>\n",
              "      <th>26</th>\n",
              "      <td>0.132798</td>\n",
              "      <td>0.022087</td>\n",
              "      <td>0.014602</td>\n",
              "      <td>0.003382</td>\n",
              "      <td>mae</td>\n",
              "      <td>6</td>\n",
              "      <td>10</td>\n",
              "      <td>{'model__criterion': 'mae', 'model__max_depth'...</td>\n",
              "      <td>-1851.216760</td>\n",
              "      <td>-1733.188896</td>\n",
              "      <td>-1836.659679</td>\n",
              "      <td>-1928.281755</td>\n",
              "      <td>-2526.977915</td>\n",
              "      <td>-1975.265001</td>\n",
              "      <td>282.770156</td>\n",
              "      <td>4</td>\n",
              "    </tr>\n",
              "    <tr>\n",
              "      <th>33</th>\n",
              "      <td>0.115199</td>\n",
              "      <td>0.008182</td>\n",
              "      <td>0.016002</td>\n",
              "      <td>0.004149</td>\n",
              "      <td>mae</td>\n",
              "      <td>7</td>\n",
              "      <td>15</td>\n",
              "      <td>{'model__criterion': 'mae', 'model__max_depth'...</td>\n",
              "      <td>-1836.121452</td>\n",
              "      <td>-1752.811728</td>\n",
              "      <td>-1918.411131</td>\n",
              "      <td>-2002.681131</td>\n",
              "      <td>-2599.106583</td>\n",
              "      <td>-2021.826405</td>\n",
              "      <td>300.389377</td>\n",
              "      <td>5</td>\n",
              "    </tr>\n",
              "  </tbody>\n",
              "</table>\n",
              "</div>"
            ],
            "text/plain": [
              "    mean_fit_time  std_fit_time  mean_score_time  std_score_time  \\\n",
              "25       0.131599      0.017396         0.018602        0.007761   \n",
              "31       0.138597      0.006051         0.013404        0.001358   \n",
              "32       0.128797      0.030783         0.014802        0.001464   \n",
              "26       0.132798      0.022087         0.014602        0.003382   \n",
              "33       0.115199      0.008182         0.016002        0.004149   \n",
              "\n",
              "   param_model__criterion param_model__max_depth  \\\n",
              "25                    mae                      6   \n",
              "31                    mae                      7   \n",
              "32                    mae                      7   \n",
              "26                    mae                      6   \n",
              "33                    mae                      7   \n",
              "\n",
              "   param_model__min_samples_leaf  \\\n",
              "25                             5   \n",
              "31                             5   \n",
              "32                            10   \n",
              "26                            10   \n",
              "33                            15   \n",
              "\n",
              "                                               params  split0_test_score  \\\n",
              "25  {'model__criterion': 'mae', 'model__max_depth'...       -1808.095486   \n",
              "31  {'model__criterion': 'mae', 'model__max_depth'...       -1849.395933   \n",
              "32  {'model__criterion': 'mae', 'model__max_depth'...       -1837.878740   \n",
              "26  {'model__criterion': 'mae', 'model__max_depth'...       -1851.216760   \n",
              "33  {'model__criterion': 'mae', 'model__max_depth'...       -1836.121452   \n",
              "\n",
              "    split1_test_score  split2_test_score  split3_test_score  \\\n",
              "25       -1674.227427       -1797.405596       -1862.364071   \n",
              "31       -1605.538089       -1886.771645       -1878.334412   \n",
              "32       -1693.533349       -1824.321476       -1890.404402   \n",
              "26       -1733.188896       -1836.659679       -1928.281755   \n",
              "33       -1752.811728       -1918.411131       -2002.681131   \n",
              "\n",
              "    split4_test_score  mean_test_score  std_test_score  rank_test_score  \n",
              "25       -2542.715395     -1936.961595      309.067647                1  \n",
              "31       -2521.859691     -1948.379954      304.932567                2  \n",
              "32       -2525.466208     -1954.320835      292.834785                3  \n",
              "26       -2526.977915     -1975.265001      282.770156                4  \n",
              "33       -2599.106583     -2021.826405      300.389377                5  "
            ]
          },
          "execution_count": 67,
          "metadata": {},
          "output_type": "execute_result"
        }
      ],
      "source": [
        "# model dengan score tertinggi\n",
        "pd.DataFrame(grid_search.cv_results_).sort_values(by='mean_test_score', ascending=False).head(5)"
      ]
    },
    {
      "cell_type": "code",
      "execution_count": null,
      "metadata": {
        "id": "uUvuAfiwo8ev"
      },
      "outputs": [],
      "source": []
    },
    {
      "cell_type": "markdown",
      "metadata": {
        "id": "RUcJrDRmo8ew"
      },
      "source": [
        "## **Model Performance in Test Set with best hyperparameter**"
      ]
    },
    {
      "cell_type": "code",
      "execution_count": null,
      "metadata": {
        "id": "6c4qoxoDo8ex",
        "outputId": "8dae1335-c21a-47b8-b7c0-f306e66fb5b5"
      },
      "outputs": [
        {
          "data": {
            "text/plain": [
              "Pipeline(steps=[('preprocess',\n",
              "                 ColumnTransformer(remainder='passthrough',\n",
              "                                   transformers=[('one hot',\n",
              "                                                  OneHotEncoder(drop='first'),\n",
              "                                                  ['sex', 'smoker',\n",
              "                                                   'region'])])),\n",
              "                ('scaler', RobustScaler()),\n",
              "                ('model',\n",
              "                 DecisionTreeRegressor(criterion='mae', max_depth=6,\n",
              "                                       min_samples_leaf=5, random_state=0))])"
            ]
          },
          "execution_count": 79,
          "metadata": {},
          "output_type": "execute_result"
        }
      ],
      "source": [
        "grid_search.best_estimator_"
      ]
    },
    {
      "cell_type": "code",
      "execution_count": null,
      "metadata": {
        "id": "IERMIvL3o8ey",
        "outputId": "f8f8ac33-602f-4ca9-f3ce-806cbf99b53f"
      },
      "outputs": [
        {
          "data": {
            "text/plain": [
              "Pipeline(steps=[('preprocess',\n",
              "                 ColumnTransformer(remainder='passthrough',\n",
              "                                   transformers=[('one hot',\n",
              "                                                  OneHotEncoder(drop='first'),\n",
              "                                                  ['sex', 'smoker',\n",
              "                                                   'region'])])),\n",
              "                ('scaler', RobustScaler()),\n",
              "                ('model',\n",
              "                 DecisionTreeRegressor(criterion='mae', max_depth=6,\n",
              "                                       min_samples_leaf=5, random_state=0))])"
            ]
          },
          "execution_count": 51,
          "metadata": {},
          "output_type": "execute_result"
        }
      ],
      "source": [
        "# Model setelah hyperparameter tuning\n",
        "best_model = grid_search.best_estimator_\n",
        "\n",
        "best_model.fit(X_train, y_train)"
      ]
    },
    {
      "cell_type": "code",
      "execution_count": null,
      "metadata": {
        "id": "YPYpiE9Bo8ez"
      },
      "outputs": [],
      "source": [
        "# predict\n",
        "y_pred_best = best_model.predict(X_test)"
      ]
    },
    {
      "cell_type": "code",
      "execution_count": null,
      "metadata": {
        "id": "yDX-hTTOo8e0",
        "outputId": "3dcb3f98-9275-4959-f923-b33a293999bf"
      },
      "outputs": [
        {
          "name": "stdout",
          "output_type": "stream",
          "text": [
            "MSE: 16994102.233397033\n",
            "RMSE: 4122.390354320783\n",
            "MAE: 1678.1435176455225\n"
          ]
        }
      ],
      "source": [
        "# Score pada test set\n",
        "mse_best = mean_squared_error(y_test, y_pred_best)\n",
        "rmse_best = np.sqrt(mse_best)\n",
        "mae_best = mean_absolute_error(y_test, y_pred_best)\n",
        "\n",
        "print('MSE:', mse_best)\n",
        "print('RMSE:', rmse_best)\n",
        "print('MAE:', mae_best)"
      ]
    },
    {
      "cell_type": "code",
      "execution_count": null,
      "metadata": {
        "id": "a5P4jdLBo8e1"
      },
      "outputs": [],
      "source": []
    },
    {
      "cell_type": "markdown",
      "metadata": {
        "id": "MeJtM58Ro8e1"
      },
      "source": [
        "## **Comparison of before and after tuning**\n",
        "Perbandingan performa pada Test set"
      ]
    },
    {
      "cell_type": "code",
      "execution_count": null,
      "metadata": {
        "id": "tWtDIhRuo8e3",
        "outputId": "7d5c7b90-d601-48a6-cd9e-47da92b7f3da"
      },
      "outputs": [
        {
          "data": {
            "text/html": [
              "<div>\n",
              "<style scoped>\n",
              "    .dataframe tbody tr th:only-of-type {\n",
              "        vertical-align: middle;\n",
              "    }\n",
              "\n",
              "    .dataframe tbody tr th {\n",
              "        vertical-align: top;\n",
              "    }\n",
              "\n",
              "    .dataframe thead th {\n",
              "        text-align: right;\n",
              "    }\n",
              "</style>\n",
              "<table border=\"1\" class=\"dataframe\">\n",
              "  <thead>\n",
              "    <tr style=\"text-align: right;\">\n",
              "      <th></th>\n",
              "      <th>Metrics-&gt;</th>\n",
              "      <th>RMSE</th>\n",
              "      <th>MAE</th>\n",
              "    </tr>\n",
              "  </thead>\n",
              "  <tbody>\n",
              "    <tr>\n",
              "      <th>0</th>\n",
              "      <td>Before tuning</td>\n",
              "      <td>4919.500277</td>\n",
              "      <td>1975.906532</td>\n",
              "    </tr>\n",
              "    <tr>\n",
              "      <th>1</th>\n",
              "      <td>After tuning</td>\n",
              "      <td>4122.390354</td>\n",
              "      <td>1678.143518</td>\n",
              "    </tr>\n",
              "  </tbody>\n",
              "</table>\n",
              "</div>"
            ],
            "text/plain": [
              "       Metrics->         RMSE          MAE\n",
              "0  Before tuning  4919.500277  1975.906532\n",
              "1   After tuning  4122.390354  1678.143518"
            ]
          },
          "execution_count": 61,
          "metadata": {},
          "output_type": "execute_result"
        }
      ],
      "source": [
        "pd.DataFrame({\n",
        "    'Metrics->':['Before tuning', 'After tuning'],\n",
        "    'RMSE':[rmse,rmse_best],\n",
        "    'MAE':[mae, mae_best]\n",
        "})"
      ]
    },
    {
      "cell_type": "markdown",
      "metadata": {
        "id": "TlUyYhy-o8e3"
      },
      "source": [
        "## **Interpretasi**\n",
        "\n",
        "- Model yang terpilih untuk melakukan modeling pada dataset ini adalah **Decision Tree**.\n",
        "- Hyperparameter tuning **berhasil meng-improve** performa model Decision Tree dari MAE 1975 ke 1678.\n",
        "- Hyperparameter terbaik berdasarkan GridSearch adalah **{'model__criterion': 'mae', 'model__max_depth': 6, 'model__min_samples_leaf': 5}**\n",
        "- Jika masih ingin mencoba meng-improve model Decision Tree ini, kita bisa coba melakukan tuning pada scaler, atau bisa juga mencoba menganti angka pada hyperparam_space."
      ]
    },
    {
      "cell_type": "markdown",
      "source": [
        "## **Latihan Imbalanced Classification**<br>\n",
        "### **Gunakan dataset stroke**\n",
        "\n",
        "1. Eksplor datasetnya terlebih dahulu.\n",
        "    - drop outlier gender = 'Other'\n",
        "2. Lakukan tahap pre-processing yang menurut kamu dibutuhkan untuk dataset ini.\n",
        "3. Target: 'stroke', features: gunakan feature yang menurut kamu berguna dalam pemodelan ini.\n",
        "4. Untuk pemodelan, gunakan model benchmark: Decision Tree\n",
        "5. Coba lakukan 3 skenario handling imbalance dataset\n",
        "    - Penalized (class_weight)\n",
        "    - Undersampling: RandomUnderSampler()\n",
        "    - Oversampling: SMOTE()\n",
        "6. Terlepas dari hasil terbaik dari 3 skenario di atas, coba lakukan hyperparameter tuning model dengan SMOTE (boleh dengan RandomizedSearch)\n",
        "7. Bandingkan hasil sebelum dan sesudah tuning<br>\n",
        "## **Feature Information**\n",
        "\n",
        "- id: unique identifier\n",
        "- gender: \"Male\", \"Female\" or \"Other\"\n",
        "- age: age of the patient\n",
        "- hypertension: 0 if the patient doesn't have hypertension, 1 if the patient has hypertension\n",
        "- heart_disease: 0 if the patient doesn't have any heart diseases, 1 if the patient has a heart disease\n",
        "- ever_married: \"No\" or \"Yes\"\n",
        "- work_type: \"children\", \"Govt_jov\", \"Never_worked\", \"Private\" or \"Self-employed\"\n",
        "- Residence_type: \"Rural\" or \"Urban\"\n",
        "- avg_glucose_level: average glucose level in blood\n",
        "- bmi: body mass index\n",
        "- smoking_status: \"formerly smoked\", \"never smoked\", \"smokes\" or \"Unknown\"\n",
        "- stroke: 1 if the patient had a stroke or 0 if not<br> *Note: \"Unknown\" in smoking_status means that the information is unavailable for this patient"
      ],
      "metadata": {
        "id": "uIqP2-ScSdRv"
      }
    }
  ],
  "metadata": {
    "interpreter": {
      "hash": "37eb40c3388cfde35488e2d005b0d69ca91ddeff8a429754d4da636d3f888e5e"
    },
    "kernelspec": {
      "display_name": "Python 3.7.6 64-bit ('base': conda)",
      "name": "python3"
    },
    "language_info": {
      "codemirror_mode": {
        "name": "ipython",
        "version": 3
      },
      "file_extension": ".py",
      "mimetype": "text/x-python",
      "name": "python",
      "nbconvert_exporter": "python",
      "pygments_lexer": "ipython3",
      "version": "3.7.6"
    },
    "orig_nbformat": 4,
    "colab": {
      "provenance": [],
      "toc_visible": true
    }
  },
  "nbformat": 4,
  "nbformat_minor": 0
}